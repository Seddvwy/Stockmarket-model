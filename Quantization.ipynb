{
 "cells": [
  {
   "cell_type": "code",
   "execution_count": 1,
   "id": "88c35f07",
   "metadata": {},
   "outputs": [
    {
     "name": "stdout",
     "output_type": "stream",
     "text": [
      "WARNING:tensorflow:From C:\\Users\\moham\\AppData\\Roaming\\Python\\Python311\\site-packages\\keras\\src\\losses.py:2976: The name tf.losses.sparse_softmax_cross_entropy is deprecated. Please use tf.compat.v1.losses.sparse_softmax_cross_entropy instead.\n",
      "\n"
     ]
    }
   ],
   "source": [
    "from keras.models import load_model\n",
    "import pandas as pd\n",
    "import tensorflow as tf\n",
    "import os"
   ]
  },
  {
   "cell_type": "code",
   "execution_count": 2,
   "id": "597760bf",
   "metadata": {},
   "outputs": [],
   "source": [
    "SAU = [\n",
    "  \"4310.SR\",\n",
    "  \"2222.SR\",\n",
    "  \"2380.SR\",\n",
    "  \"2381.SR\",\n",
    "#   \"2382.SR\",\n",
    "  \"4030.SR\",\n",
    "  \"4200.SR\",\n",
    "  \"1201.SR\",\n",
    "  \"1202.SR\",\n",
    "  \"1210.SR\",\n",
    "  \"1211.SR\",\n",
    "  \"1301.SR\",\n",
    "  \"1304.SR\",\n",
    "  \"1320.SR\",\n",
    "  \"1321.SR\",\n",
    "  \"1322.SR\",\n",
    "  \"2001.SR\",\n",
    "  \"2010.SR\",\n",
    "  \"2020.SR\",\n",
    "  \"2060.SR\",\n",
    "  \"2090.SR\",\n",
    "  \"2150.SR\",\n",
    "  \"2170.SR\",\n",
    "  \"2180.SR\",\n",
    "  \"2200.SR\",\n",
    "  \"2210.SR\",\n",
    "  \"2220.SR\",\n",
    "  \"2223.SR\",\n",
    "  \"2240.SR\",\n",
    "  \"2250.SR\",\n",
    "  \"2290.SR\",\n",
    "  \"2300.SR\",\n",
    "  \"2310.SR\",\n",
    "  \"2330.SR\",\n",
    "  \"2350.SR\",\n",
    "  \"2360.SR\",\n",
    "  \"3001.SR\",\n",
    "  \"3002.SR\",\n",
    "  \"3003.SR\",\n",
    "  \"3004.SR\",\n",
    "  \"3005.SR\",\n",
    "  \"3007.SR\",\n",
    "  \"3008.SR\",\n",
    "  \"3010.SR\",\n",
    "  \"3020.SR\",\n",
    "  \"3030.SR\",\n",
    "  \"3040.SR\",\n",
    "  \"3050.SR\",\n",
    "  \"3060.SR\",\n",
    "  \"3080.SR\",\n",
    "  \"3090.SR\",\n",
    "  \"3091.SR\",\n",
    "#   \"3092.SR\",\n",
    "  \"1212.SR\",\n",
    "  \"1214.SR\",\n",
    "  \"1302.SR\",\n",
    "  \"1303.SR\",\n",
    "  \"2040.SR\",\n",
    "  \"2110.SR\",\n",
    "  \"2160.SR\",\n",
    "  \"2320.SR\",\n",
    "  \"2370.SR\",\n",
    "  \"4110.SR\",\n",
    "  \"4140.SR\",\n",
    "  \"4141.SR\",\n",
    "  \"4142.SR\",\n",
    "  \"1831.SR\",\n",
    "  \"1832.SR\",\n",
    "  \"1833.SR\",\n",
    "  \"4270.SR\",\n",
    "  \"6004.SR\",\n",
    "  \"2190.SR\",\n",
    "  \"4031.SR\",\n",
    "  \"4040.SR\",\n",
    "  \"4260.SR\",\n",
    "  \"4261.SR\",\n",
    "#   \"4262.SR\",\n",
    "#   \"4263.SR\",\n",
    "  \"1213.SR\",\n",
    "  \"2130.SR\",\n",
    "  \"2340.SR\",\n",
    "  \"4011.SR\",\n",
    "  \"4012.SR\",\n",
    "  \"4180.SR\",\n",
    "  \"1810.SR\",\n",
    "  \"1820.SR\",\n",
    "  \"1830.SR\",\n",
    "  \"4170.SR\",\n",
    "  \"4290.SR\",\n",
    "  \"4291.SR\",\n",
    "  \"4292.SR\",\n",
    "  \"6002.SR\",\n",
    "  \"6012.SR\",\n",
    "  \"6013.SR\",\n",
    "  \"6014.SR\",\n",
    "  \"6015.SR\",\n",
    "  \"4070.SR\",\n",
    "  \"4071.SR\",\n",
    "#   \"4072.SR\",\n",
    "  \"4210.SR\",\n",
    "  \"4003.SR\",\n",
    "  \"4008.SR\",\n",
    "  \"4050.SR\",\n",
    "  \"4051.SR\",\n",
    "  \"4190.SR\",\n",
    "  \"4191.SR\",\n",
    "  \"4192.SR\",\n",
    "  \"4240.SR\",\n",
    "  \"4001.SR\",\n",
    "  \"4006.SR\",\n",
    "  \"4061.SR\",\n",
    "  \"4160.SR\",\n",
    "  \"4161.SR\",\n",
    "  \"4162.SR\",\n",
    "  \"4163.SR\",\n",
    "  \"4164.SR\",\n",
    "  \"2050.SR\",\n",
    "  \"2100.SR\",\n",
    "  \"2270.SR\",\n",
    "  \"2280.SR\",\n",
    "  \"2281.SR\",\n",
    "  \"2282.SR\",\n",
    "  \"2283.SR\",\n",
    "  \"4080.SR\",\n",
    "  \"6001.SR\",\n",
    "  \"6010.SR\",\n",
    "  \"6020.SR\",\n",
    "  \"6040.SR\",\n",
    "  \"6050.SR\",\n",
    "  \"6060.SR\",\n",
    "  \"6070.SR\",\n",
    "  \"6090.SR\",\n",
    "  \"2140.SR\",\n",
    "  \"2230.SR\",\n",
    "  \"4002.SR\",\n",
    "  \"4004.SR\",\n",
    "  \"4005.SR\",\n",
    "  \"4007.SR\",\n",
    "  \"4009.SR\",\n",
    "  \"4013.SR\",\n",
    "  \"4014.SR\",\n",
    "  \"2070.SR\",\n",
    "  \"4015.SR\",\n",
    "  \"1010.SR\",\n",
    "  \"1020.SR\",\n",
    "  \"1030.SR\",\n",
    "  \"1050.SR\",\n",
    "  \"1060.SR\",\n",
    "  \"1080.SR\",\n",
    "  \"1120.SR\",\n",
    "  \"1140.SR\",\n",
    "  \"1150.SR\",\n",
    "  \"1180.SR\",\n",
    "  \"1111.SR\",\n",
    "  \"1182.SR\",\n",
    "  \"1183.SR\",\n",
    "  \"2120.SR\",\n",
    "  \"4081.SR\",\n",
    "  \"4082.SR\",\n",
    "  \"4130.SR\",\n",
    "  \"4280.SR\",\n",
    "  \"8010.SR\",\n",
    "  \"8012.SR\",\n",
    "  \"8020.SR\",\n",
    "  \"8030.SR\",\n",
    "  \"8040.SR\",\n",
    "  \"8050.SR\",\n",
    "  \"8060.SR\",\n",
    "  \"8070.SR\",\n",
    "  \"8100.SR\",\n",
    "  \"8120.SR\",\n",
    "  \"8150.SR\",\n",
    "  \"8160.SR\",\n",
    "  \"8170.SR\",\n",
    "  \"8180.SR\",\n",
    "  \"8190.SR\",\n",
    "  \"8200.SR\",\n",
    "  \"8210.SR\",\n",
    "  \"8230.SR\",\n",
    "  \"8240.SR\",\n",
    "  \"8250.SR\",\n",
    "  \"8260.SR\",\n",
    "  \"8270.SR\",\n",
    "  \"8280.SR\",\n",
    "  \"8300.SR\",\n",
    "  \"8310.SR\",\n",
    "  \"8311.SR\",\n",
    "  \"7200.SR\",\n",
    "  \"7201.SR\",\n",
    "  \"7202.SR\",\n",
    "  \"7203.SR\",\n",
    "  \"7204.SR\",\n",
    "  \"7010.SR\",\n",
    "  \"7020.SR\",\n",
    "  \"7030.SR\",\n",
    "  \"7040.SR\",\n",
    "  \"2080.SR\",\n",
    "  \"2081.SR\",\n",
    "  \"2082.SR\",\n",
    "  \"2083.SR\",\n",
    "  \"5110.SR\",\n",
    "  \"4330.SR\",\n",
    "  \"4331.SR\",\n",
    "  \"4332.SR\",\n",
    "  \"4333.SR\",\n",
    "  \"4334.SR\",\n",
    "  \"4335.SR\",\n",
    "  \"4336.SR\",\n",
    "  \"4337.SR\",\n",
    "  \"4338.SR\",\n",
    "  \"4340.SR\",\n",
    "  \"4342.SR\",\n",
    "  \"4344.SR\",\n",
    "  \"4345.SR\",\n",
    "  \"4346.SR\",\n",
    "  \"4347.SR\",\n",
    "  \"4348.SR\",\n",
    "  \"4349.SR\",\n",
    "  \"4020.SR\",\n",
    "  \"4090.SR\",\n",
    "  \"4100.SR\",\n",
    "  \"4150.SR\",\n",
    "  \"4220.SR\",\n",
    "  \"4230.SR\",\n",
    "  \"4250.SR\",\n",
    "  \"4300.SR\",\n",
    "  \"4310.SR\",\n",
    "  \"4320.SR\",\n",
    "  \"4321.SR\",\n",
    "  \"4322.SR\",\n",
    "#   \"4323.SR\",\n",
    "#   \"70403.SR\",\n",
    "]\n",
    "\n",
    "\n",
    "USA = [\n",
    "    \"MSFT\", \"AAPL\", \"NVDA\", \"GOOG\", \"GOOGL\", \"AMZN\", \"META\", \"LLY\", \"AVGO\", \"JPM\", \"V\", \"WMT\", \"XOM\", \"UNH\",\n",
    "    \"MA\", \"PG\", \"HD\", \"ORCL\", \"COST\", \"MRK\", \"CVX\", \"ABBV\", \"CRM\", \"NFLX\", \"AMD\", \"KO\", \"PEP\", \"GE\", \"LIN\",\n",
    "    \"ADBE\", \"TMO\", \"DIS\", \"MCD\", \"TMUS\", \"ABT\", \"QCOM\", \"DHR\", \"AMAT\", \"INTU\", \"CMCSA\", \"UBER\", \"NOW\", \"COP\",\n",
    "    \"UNP\", \"NKE\", \"PM\", \"MU\", \"ISRG\", \"SCHW\"\n",
    "]\n",
    "\n",
    "UK = [\n",
    "    \"AZN\", \"LYG\", \"HSBC\", \"UL\", \"BP\", \"GSK\", \"STLA\", \"RELX\", \"DEO\", \"BTI\", \"NGG\", \"FERG\", \"HLN\",\n",
    "    \"BCS\", \"CCEP\", \"NWG\", \"WTW\", \"PUK\", \"VOD\", \"APTV\", \"IHG\", \"CNHI\", \"NVT\", \"SNN\", \"ROIV\", \"PSO\",\n",
    "    \"LBTYB\", \"LBTYK\", \"LBTYA\", \"JHG\", \"ATCOL\", \"CLVT\", \"ARBKL\", \"NOMD\", \"LIVN\", \"TRMD\", \"IMCR\",\n",
    "    \"MANU\", \"AY\", \"DAVA\", \"VTEX\", \"VRNA\", \"AUTL\", \"CNTA\", \"GSM\", \"BCYC\", \"BSIG\"\n",
    "]\n",
    "\n",
    "AUS = [\n",
    "    \"BHP\", \"CBA\", \"RIO\", \"CSL\", \"WBC\", \"WES\", \"WDS\", \"RMD\", \"TLS\", \"WOW\", \"ALL\", \"JHX\", \"COL\", \"SUN\", \"AMC\",\n",
    "    \"ORG\", \"IAG\", \"FPH\", \"MIN\", \"CAR\", \"ASX\", \"SOL\", \"TLC\", \"APA\", \"PME\", \"BSL\"\n",
    "]\n",
    "\n",
    "JAP = [\n",
    "    \"TM\", \"MUFG\", \"8035.T\", \"SONY\", \"6861.T\",\"8058.T\", \"6501.T\", \"4063.T\", \"9983.T\",\n",
    "    \"9984.T\", \"8316.T\", \"8031.T\", \"6098.T\", \"8001.T\", \"8766.T\", \"9433.T\", \"HMC\", \"4568.T\",\n",
    "    \"6902.T\", \"4519.T\", \"8411.T\", \"2914.T\", \"4502.T\", \"6367.T\", \"6503.T\", \"3382.T\", \"5108.T\",\n",
    "    \"8053.T\", \"6702.T\", \"6178.T\", \"8801.T\", \"7011.T\", \"8002.T\", \"CAJ\", \"6954.T\", \"8725.T\",\n",
    "    \"6857.T\", \"6301.T\", \"4901.T\", \"4543.T\", \"8802.T\", \"9022.T\", \"7269.T\", \"8015.T\", \"4578.T\",\n",
    "    \"8750.T\", \"9020.T\", \"6752.T\", \"9613.T\", \"5401.T\"\n",
    "]\n"
   ]
  },
  {
   "cell_type": "code",
   "execution_count": 3,
   "id": "c422cdac",
   "metadata": {},
   "outputs": [
    {
     "name": "stdout",
     "output_type": "stream",
     "text": [
      "WARNING:tensorflow:From C:\\Users\\moham\\AppData\\Roaming\\Python\\Python311\\site-packages\\keras\\src\\backend.py:1398: The name tf.executing_eagerly_outside_functions is deprecated. Please use tf.compat.v1.executing_eagerly_outside_functions instead.\n",
      "\n"
     ]
    }
   ],
   "source": [
    "def load_models(models_path=\"models\"):\n",
    "    trained_models = {}\n",
    "    for symbol in JAP:\n",
    "        model_path = os.path.join(models_path, f'{symbol}_model.h5')\n",
    "        model = load_model(model_path)\n",
    "        trained_models[symbol] = model\n",
    "    return trained_models\n",
    "\n",
    "trained_models = load_models()"
   ]
  },
  {
   "cell_type": "code",
   "execution_count": 4,
   "id": "4b507110",
   "metadata": {},
   "outputs": [
    {
     "name": "stdout",
     "output_type": "stream",
     "text": [
      "INFO:tensorflow:Assets written to: C:\\Users\\moham\\AppData\\Local\\Temp\\tmp5_hts28m\\assets\n"
     ]
    },
    {
     "name": "stderr",
     "output_type": "stream",
     "text": [
      "INFO:tensorflow:Assets written to: C:\\Users\\moham\\AppData\\Local\\Temp\\tmp5_hts28m\\assets\n"
     ]
    },
    {
     "name": "stdout",
     "output_type": "stream",
     "text": [
      "INFO:tensorflow:Assets written to: C:\\Users\\moham\\AppData\\Local\\Temp\\tmppnzph_8a\\assets\n"
     ]
    },
    {
     "name": "stderr",
     "output_type": "stream",
     "text": [
      "INFO:tensorflow:Assets written to: C:\\Users\\moham\\AppData\\Local\\Temp\\tmppnzph_8a\\assets\n"
     ]
    },
    {
     "name": "stdout",
     "output_type": "stream",
     "text": [
      "INFO:tensorflow:Assets written to: C:\\Users\\moham\\AppData\\Local\\Temp\\tmprbmrs2ea\\assets\n"
     ]
    },
    {
     "name": "stderr",
     "output_type": "stream",
     "text": [
      "INFO:tensorflow:Assets written to: C:\\Users\\moham\\AppData\\Local\\Temp\\tmprbmrs2ea\\assets\n"
     ]
    },
    {
     "name": "stdout",
     "output_type": "stream",
     "text": [
      "INFO:tensorflow:Assets written to: C:\\Users\\moham\\AppData\\Local\\Temp\\tmpw6ydu2fs\\assets\n"
     ]
    },
    {
     "name": "stderr",
     "output_type": "stream",
     "text": [
      "INFO:tensorflow:Assets written to: C:\\Users\\moham\\AppData\\Local\\Temp\\tmpw6ydu2fs\\assets\n"
     ]
    },
    {
     "name": "stdout",
     "output_type": "stream",
     "text": [
      "INFO:tensorflow:Assets written to: C:\\Users\\moham\\AppData\\Local\\Temp\\tmpze9r94p8\\assets\n"
     ]
    },
    {
     "name": "stderr",
     "output_type": "stream",
     "text": [
      "INFO:tensorflow:Assets written to: C:\\Users\\moham\\AppData\\Local\\Temp\\tmpze9r94p8\\assets\n"
     ]
    },
    {
     "name": "stdout",
     "output_type": "stream",
     "text": [
      "INFO:tensorflow:Assets written to: C:\\Users\\moham\\AppData\\Local\\Temp\\tmpzxq57ctf\\assets\n"
     ]
    },
    {
     "name": "stderr",
     "output_type": "stream",
     "text": [
      "INFO:tensorflow:Assets written to: C:\\Users\\moham\\AppData\\Local\\Temp\\tmpzxq57ctf\\assets\n"
     ]
    },
    {
     "name": "stdout",
     "output_type": "stream",
     "text": [
      "INFO:tensorflow:Assets written to: C:\\Users\\moham\\AppData\\Local\\Temp\\tmpvkdoghnm\\assets\n"
     ]
    },
    {
     "name": "stderr",
     "output_type": "stream",
     "text": [
      "INFO:tensorflow:Assets written to: C:\\Users\\moham\\AppData\\Local\\Temp\\tmpvkdoghnm\\assets\n"
     ]
    },
    {
     "name": "stdout",
     "output_type": "stream",
     "text": [
      "INFO:tensorflow:Assets written to: C:\\Users\\moham\\AppData\\Local\\Temp\\tmpn4y5yzm2\\assets\n"
     ]
    },
    {
     "name": "stderr",
     "output_type": "stream",
     "text": [
      "INFO:tensorflow:Assets written to: C:\\Users\\moham\\AppData\\Local\\Temp\\tmpn4y5yzm2\\assets\n"
     ]
    },
    {
     "name": "stdout",
     "output_type": "stream",
     "text": [
      "INFO:tensorflow:Assets written to: C:\\Users\\moham\\AppData\\Local\\Temp\\tmp65_y7vbt\\assets\n"
     ]
    },
    {
     "name": "stderr",
     "output_type": "stream",
     "text": [
      "INFO:tensorflow:Assets written to: C:\\Users\\moham\\AppData\\Local\\Temp\\tmp65_y7vbt\\assets\n"
     ]
    },
    {
     "name": "stdout",
     "output_type": "stream",
     "text": [
      "INFO:tensorflow:Assets written to: C:\\Users\\moham\\AppData\\Local\\Temp\\tmpotf3447p\\assets\n"
     ]
    },
    {
     "name": "stderr",
     "output_type": "stream",
     "text": [
      "INFO:tensorflow:Assets written to: C:\\Users\\moham\\AppData\\Local\\Temp\\tmpotf3447p\\assets\n"
     ]
    },
    {
     "name": "stdout",
     "output_type": "stream",
     "text": [
      "INFO:tensorflow:Assets written to: C:\\Users\\moham\\AppData\\Local\\Temp\\tmpwnlydhsi\\assets\n"
     ]
    },
    {
     "name": "stderr",
     "output_type": "stream",
     "text": [
      "INFO:tensorflow:Assets written to: C:\\Users\\moham\\AppData\\Local\\Temp\\tmpwnlydhsi\\assets\n"
     ]
    },
    {
     "name": "stdout",
     "output_type": "stream",
     "text": [
      "INFO:tensorflow:Assets written to: C:\\Users\\moham\\AppData\\Local\\Temp\\tmp7dbyo0l0\\assets\n"
     ]
    },
    {
     "name": "stderr",
     "output_type": "stream",
     "text": [
      "INFO:tensorflow:Assets written to: C:\\Users\\moham\\AppData\\Local\\Temp\\tmp7dbyo0l0\\assets\n"
     ]
    },
    {
     "name": "stdout",
     "output_type": "stream",
     "text": [
      "INFO:tensorflow:Assets written to: C:\\Users\\moham\\AppData\\Local\\Temp\\tmpucppqf1l\\assets\n"
     ]
    },
    {
     "name": "stderr",
     "output_type": "stream",
     "text": [
      "INFO:tensorflow:Assets written to: C:\\Users\\moham\\AppData\\Local\\Temp\\tmpucppqf1l\\assets\n"
     ]
    },
    {
     "name": "stdout",
     "output_type": "stream",
     "text": [
      "INFO:tensorflow:Assets written to: C:\\Users\\moham\\AppData\\Local\\Temp\\tmp0ugiqayj\\assets\n"
     ]
    },
    {
     "name": "stderr",
     "output_type": "stream",
     "text": [
      "INFO:tensorflow:Assets written to: C:\\Users\\moham\\AppData\\Local\\Temp\\tmp0ugiqayj\\assets\n"
     ]
    },
    {
     "name": "stdout",
     "output_type": "stream",
     "text": [
      "INFO:tensorflow:Assets written to: C:\\Users\\moham\\AppData\\Local\\Temp\\tmptltmzy10\\assets\n"
     ]
    },
    {
     "name": "stderr",
     "output_type": "stream",
     "text": [
      "INFO:tensorflow:Assets written to: C:\\Users\\moham\\AppData\\Local\\Temp\\tmptltmzy10\\assets\n"
     ]
    },
    {
     "name": "stdout",
     "output_type": "stream",
     "text": [
      "INFO:tensorflow:Assets written to: C:\\Users\\moham\\AppData\\Local\\Temp\\tmpunqk7_pn\\assets\n"
     ]
    },
    {
     "name": "stderr",
     "output_type": "stream",
     "text": [
      "INFO:tensorflow:Assets written to: C:\\Users\\moham\\AppData\\Local\\Temp\\tmpunqk7_pn\\assets\n"
     ]
    },
    {
     "name": "stdout",
     "output_type": "stream",
     "text": [
      "INFO:tensorflow:Assets written to: C:\\Users\\moham\\AppData\\Local\\Temp\\tmpap8xpoh8\\assets\n"
     ]
    },
    {
     "name": "stderr",
     "output_type": "stream",
     "text": [
      "INFO:tensorflow:Assets written to: C:\\Users\\moham\\AppData\\Local\\Temp\\tmpap8xpoh8\\assets\n"
     ]
    },
    {
     "name": "stdout",
     "output_type": "stream",
     "text": [
      "INFO:tensorflow:Assets written to: C:\\Users\\moham\\AppData\\Local\\Temp\\tmpmns1zis7\\assets\n"
     ]
    },
    {
     "name": "stderr",
     "output_type": "stream",
     "text": [
      "INFO:tensorflow:Assets written to: C:\\Users\\moham\\AppData\\Local\\Temp\\tmpmns1zis7\\assets\n"
     ]
    },
    {
     "name": "stdout",
     "output_type": "stream",
     "text": [
      "INFO:tensorflow:Assets written to: C:\\Users\\moham\\AppData\\Local\\Temp\\tmpkkhnsdd5\\assets\n"
     ]
    },
    {
     "name": "stderr",
     "output_type": "stream",
     "text": [
      "INFO:tensorflow:Assets written to: C:\\Users\\moham\\AppData\\Local\\Temp\\tmpkkhnsdd5\\assets\n"
     ]
    },
    {
     "name": "stdout",
     "output_type": "stream",
     "text": [
      "INFO:tensorflow:Assets written to: C:\\Users\\moham\\AppData\\Local\\Temp\\tmpc3ty8lny\\assets\n"
     ]
    },
    {
     "name": "stderr",
     "output_type": "stream",
     "text": [
      "INFO:tensorflow:Assets written to: C:\\Users\\moham\\AppData\\Local\\Temp\\tmpc3ty8lny\\assets\n"
     ]
    },
    {
     "name": "stdout",
     "output_type": "stream",
     "text": [
      "INFO:tensorflow:Assets written to: C:\\Users\\moham\\AppData\\Local\\Temp\\tmpy0sx9hi3\\assets\n"
     ]
    },
    {
     "name": "stderr",
     "output_type": "stream",
     "text": [
      "INFO:tensorflow:Assets written to: C:\\Users\\moham\\AppData\\Local\\Temp\\tmpy0sx9hi3\\assets\n"
     ]
    },
    {
     "name": "stdout",
     "output_type": "stream",
     "text": [
      "INFO:tensorflow:Assets written to: C:\\Users\\moham\\AppData\\Local\\Temp\\tmpevigiold\\assets\n"
     ]
    },
    {
     "name": "stderr",
     "output_type": "stream",
     "text": [
      "INFO:tensorflow:Assets written to: C:\\Users\\moham\\AppData\\Local\\Temp\\tmpevigiold\\assets\n"
     ]
    },
    {
     "name": "stdout",
     "output_type": "stream",
     "text": [
      "INFO:tensorflow:Assets written to: C:\\Users\\moham\\AppData\\Local\\Temp\\tmpi2xvm03w\\assets\n"
     ]
    },
    {
     "name": "stderr",
     "output_type": "stream",
     "text": [
      "INFO:tensorflow:Assets written to: C:\\Users\\moham\\AppData\\Local\\Temp\\tmpi2xvm03w\\assets\n"
     ]
    },
    {
     "name": "stdout",
     "output_type": "stream",
     "text": [
      "INFO:tensorflow:Assets written to: C:\\Users\\moham\\AppData\\Local\\Temp\\tmpmkcj0_do\\assets\n"
     ]
    },
    {
     "name": "stderr",
     "output_type": "stream",
     "text": [
      "INFO:tensorflow:Assets written to: C:\\Users\\moham\\AppData\\Local\\Temp\\tmpmkcj0_do\\assets\n"
     ]
    },
    {
     "name": "stdout",
     "output_type": "stream",
     "text": [
      "INFO:tensorflow:Assets written to: C:\\Users\\moham\\AppData\\Local\\Temp\\tmp6fylecjz\\assets\n"
     ]
    },
    {
     "name": "stderr",
     "output_type": "stream",
     "text": [
      "INFO:tensorflow:Assets written to: C:\\Users\\moham\\AppData\\Local\\Temp\\tmp6fylecjz\\assets\n"
     ]
    },
    {
     "name": "stdout",
     "output_type": "stream",
     "text": [
      "INFO:tensorflow:Assets written to: C:\\Users\\moham\\AppData\\Local\\Temp\\tmpai3_6ggq\\assets\n"
     ]
    },
    {
     "name": "stderr",
     "output_type": "stream",
     "text": [
      "INFO:tensorflow:Assets written to: C:\\Users\\moham\\AppData\\Local\\Temp\\tmpai3_6ggq\\assets\n"
     ]
    },
    {
     "name": "stdout",
     "output_type": "stream",
     "text": [
      "INFO:tensorflow:Assets written to: C:\\Users\\moham\\AppData\\Local\\Temp\\tmp8jvm6pv2\\assets\n"
     ]
    },
    {
     "name": "stderr",
     "output_type": "stream",
     "text": [
      "INFO:tensorflow:Assets written to: C:\\Users\\moham\\AppData\\Local\\Temp\\tmp8jvm6pv2\\assets\n"
     ]
    },
    {
     "name": "stdout",
     "output_type": "stream",
     "text": [
      "INFO:tensorflow:Assets written to: C:\\Users\\moham\\AppData\\Local\\Temp\\tmp9qm0hfb2\\assets\n"
     ]
    },
    {
     "name": "stderr",
     "output_type": "stream",
     "text": [
      "INFO:tensorflow:Assets written to: C:\\Users\\moham\\AppData\\Local\\Temp\\tmp9qm0hfb2\\assets\n"
     ]
    },
    {
     "name": "stdout",
     "output_type": "stream",
     "text": [
      "INFO:tensorflow:Assets written to: C:\\Users\\moham\\AppData\\Local\\Temp\\tmpo631epf2\\assets\n"
     ]
    },
    {
     "name": "stderr",
     "output_type": "stream",
     "text": [
      "INFO:tensorflow:Assets written to: C:\\Users\\moham\\AppData\\Local\\Temp\\tmpo631epf2\\assets\n"
     ]
    },
    {
     "name": "stdout",
     "output_type": "stream",
     "text": [
      "INFO:tensorflow:Assets written to: C:\\Users\\moham\\AppData\\Local\\Temp\\tmp68sau_32\\assets\n"
     ]
    },
    {
     "name": "stderr",
     "output_type": "stream",
     "text": [
      "INFO:tensorflow:Assets written to: C:\\Users\\moham\\AppData\\Local\\Temp\\tmp68sau_32\\assets\n"
     ]
    },
    {
     "name": "stdout",
     "output_type": "stream",
     "text": [
      "INFO:tensorflow:Assets written to: C:\\Users\\moham\\AppData\\Local\\Temp\\tmpt8essmla\\assets\n"
     ]
    },
    {
     "name": "stderr",
     "output_type": "stream",
     "text": [
      "INFO:tensorflow:Assets written to: C:\\Users\\moham\\AppData\\Local\\Temp\\tmpt8essmla\\assets\n"
     ]
    },
    {
     "name": "stdout",
     "output_type": "stream",
     "text": [
      "INFO:tensorflow:Assets written to: C:\\Users\\moham\\AppData\\Local\\Temp\\tmp2xqht8cn\\assets\n"
     ]
    },
    {
     "name": "stderr",
     "output_type": "stream",
     "text": [
      "INFO:tensorflow:Assets written to: C:\\Users\\moham\\AppData\\Local\\Temp\\tmp2xqht8cn\\assets\n"
     ]
    },
    {
     "name": "stdout",
     "output_type": "stream",
     "text": [
      "INFO:tensorflow:Assets written to: C:\\Users\\moham\\AppData\\Local\\Temp\\tmp81k4ifbj\\assets\n"
     ]
    },
    {
     "name": "stderr",
     "output_type": "stream",
     "text": [
      "INFO:tensorflow:Assets written to: C:\\Users\\moham\\AppData\\Local\\Temp\\tmp81k4ifbj\\assets\n"
     ]
    },
    {
     "name": "stdout",
     "output_type": "stream",
     "text": [
      "INFO:tensorflow:Assets written to: C:\\Users\\moham\\AppData\\Local\\Temp\\tmpp19s1aqs\\assets\n"
     ]
    },
    {
     "name": "stderr",
     "output_type": "stream",
     "text": [
      "INFO:tensorflow:Assets written to: C:\\Users\\moham\\AppData\\Local\\Temp\\tmpp19s1aqs\\assets\n"
     ]
    },
    {
     "name": "stdout",
     "output_type": "stream",
     "text": [
      "INFO:tensorflow:Assets written to: C:\\Users\\moham\\AppData\\Local\\Temp\\tmpmwnrug0d\\assets\n"
     ]
    },
    {
     "name": "stderr",
     "output_type": "stream",
     "text": [
      "INFO:tensorflow:Assets written to: C:\\Users\\moham\\AppData\\Local\\Temp\\tmpmwnrug0d\\assets\n"
     ]
    },
    {
     "name": "stdout",
     "output_type": "stream",
     "text": [
      "INFO:tensorflow:Assets written to: C:\\Users\\moham\\AppData\\Local\\Temp\\tmpliaznmpq\\assets\n"
     ]
    },
    {
     "name": "stderr",
     "output_type": "stream",
     "text": [
      "INFO:tensorflow:Assets written to: C:\\Users\\moham\\AppData\\Local\\Temp\\tmpliaznmpq\\assets\n"
     ]
    },
    {
     "name": "stdout",
     "output_type": "stream",
     "text": [
      "INFO:tensorflow:Assets written to: C:\\Users\\moham\\AppData\\Local\\Temp\\tmpij_0f2_p\\assets\n"
     ]
    },
    {
     "name": "stderr",
     "output_type": "stream",
     "text": [
      "INFO:tensorflow:Assets written to: C:\\Users\\moham\\AppData\\Local\\Temp\\tmpij_0f2_p\\assets\n"
     ]
    },
    {
     "name": "stdout",
     "output_type": "stream",
     "text": [
      "INFO:tensorflow:Assets written to: C:\\Users\\moham\\AppData\\Local\\Temp\\tmpfg89l67f\\assets\n"
     ]
    },
    {
     "name": "stderr",
     "output_type": "stream",
     "text": [
      "INFO:tensorflow:Assets written to: C:\\Users\\moham\\AppData\\Local\\Temp\\tmpfg89l67f\\assets\n"
     ]
    },
    {
     "name": "stdout",
     "output_type": "stream",
     "text": [
      "INFO:tensorflow:Assets written to: C:\\Users\\moham\\AppData\\Local\\Temp\\tmp8r_3h5qk\\assets\n"
     ]
    },
    {
     "name": "stderr",
     "output_type": "stream",
     "text": [
      "INFO:tensorflow:Assets written to: C:\\Users\\moham\\AppData\\Local\\Temp\\tmp8r_3h5qk\\assets\n"
     ]
    },
    {
     "name": "stdout",
     "output_type": "stream",
     "text": [
      "INFO:tensorflow:Assets written to: C:\\Users\\moham\\AppData\\Local\\Temp\\tmpey6bench\\assets\n"
     ]
    },
    {
     "name": "stderr",
     "output_type": "stream",
     "text": [
      "INFO:tensorflow:Assets written to: C:\\Users\\moham\\AppData\\Local\\Temp\\tmpey6bench\\assets\n"
     ]
    },
    {
     "name": "stdout",
     "output_type": "stream",
     "text": [
      "INFO:tensorflow:Assets written to: C:\\Users\\moham\\AppData\\Local\\Temp\\tmpq_y4o9pk\\assets\n"
     ]
    },
    {
     "name": "stderr",
     "output_type": "stream",
     "text": [
      "INFO:tensorflow:Assets written to: C:\\Users\\moham\\AppData\\Local\\Temp\\tmpq_y4o9pk\\assets\n"
     ]
    },
    {
     "name": "stdout",
     "output_type": "stream",
     "text": [
      "INFO:tensorflow:Assets written to: C:\\Users\\moham\\AppData\\Local\\Temp\\tmpl9sdi9cc\\assets\n"
     ]
    },
    {
     "name": "stderr",
     "output_type": "stream",
     "text": [
      "INFO:tensorflow:Assets written to: C:\\Users\\moham\\AppData\\Local\\Temp\\tmpl9sdi9cc\\assets\n"
     ]
    },
    {
     "name": "stdout",
     "output_type": "stream",
     "text": [
      "INFO:tensorflow:Assets written to: C:\\Users\\moham\\AppData\\Local\\Temp\\tmpe7s3w8gv\\assets\n"
     ]
    },
    {
     "name": "stderr",
     "output_type": "stream",
     "text": [
      "INFO:tensorflow:Assets written to: C:\\Users\\moham\\AppData\\Local\\Temp\\tmpe7s3w8gv\\assets\n"
     ]
    },
    {
     "name": "stdout",
     "output_type": "stream",
     "text": [
      "INFO:tensorflow:Assets written to: C:\\Users\\moham\\AppData\\Local\\Temp\\tmpg2nv1w34\\assets\n"
     ]
    },
    {
     "name": "stderr",
     "output_type": "stream",
     "text": [
      "INFO:tensorflow:Assets written to: C:\\Users\\moham\\AppData\\Local\\Temp\\tmpg2nv1w34\\assets\n"
     ]
    },
    {
     "name": "stdout",
     "output_type": "stream",
     "text": [
      "INFO:tensorflow:Assets written to: C:\\Users\\moham\\AppData\\Local\\Temp\\tmpaq1q9qva\\assets\n"
     ]
    },
    {
     "name": "stderr",
     "output_type": "stream",
     "text": [
      "INFO:tensorflow:Assets written to: C:\\Users\\moham\\AppData\\Local\\Temp\\tmpaq1q9qva\\assets\n"
     ]
    },
    {
     "name": "stdout",
     "output_type": "stream",
     "text": [
      "INFO:tensorflow:Assets written to: C:\\Users\\moham\\AppData\\Local\\Temp\\tmpv9jw5on5\\assets\n"
     ]
    },
    {
     "name": "stderr",
     "output_type": "stream",
     "text": [
      "INFO:tensorflow:Assets written to: C:\\Users\\moham\\AppData\\Local\\Temp\\tmpv9jw5on5\\assets\n"
     ]
    },
    {
     "name": "stdout",
     "output_type": "stream",
     "text": [
      "INFO:tensorflow:Assets written to: C:\\Users\\moham\\AppData\\Local\\Temp\\tmpxt1usqr3\\assets\n"
     ]
    },
    {
     "name": "stderr",
     "output_type": "stream",
     "text": [
      "INFO:tensorflow:Assets written to: C:\\Users\\moham\\AppData\\Local\\Temp\\tmpxt1usqr3\\assets\n"
     ]
    },
    {
     "name": "stdout",
     "output_type": "stream",
     "text": [
      "INFO:tensorflow:Assets written to: C:\\Users\\moham\\AppData\\Local\\Temp\\tmpeeqtsgzv\\assets\n"
     ]
    },
    {
     "name": "stderr",
     "output_type": "stream",
     "text": [
      "INFO:tensorflow:Assets written to: C:\\Users\\moham\\AppData\\Local\\Temp\\tmpeeqtsgzv\\assets\n"
     ]
    },
    {
     "name": "stdout",
     "output_type": "stream",
     "text": [
      "INFO:tensorflow:Assets written to: C:\\Users\\moham\\AppData\\Local\\Temp\\tmpbo8wkjex\\assets\n"
     ]
    },
    {
     "name": "stderr",
     "output_type": "stream",
     "text": [
      "INFO:tensorflow:Assets written to: C:\\Users\\moham\\AppData\\Local\\Temp\\tmpbo8wkjex\\assets\n"
     ]
    },
    {
     "name": "stdout",
     "output_type": "stream",
     "text": [
      "INFO:tensorflow:Assets written to: C:\\Users\\moham\\AppData\\Local\\Temp\\tmpkm65oq8a\\assets\n"
     ]
    },
    {
     "name": "stderr",
     "output_type": "stream",
     "text": [
      "INFO:tensorflow:Assets written to: C:\\Users\\moham\\AppData\\Local\\Temp\\tmpkm65oq8a\\assets\n"
     ]
    }
   ],
   "source": [
    "# Convert models to TensorFlow Lite\n",
    "tflite_models = {}\n",
    "for symbol, model in trained_models.items():\n",
    "    converter = tf.lite.TFLiteConverter.from_keras_model(model)\n",
    "    converter.optimizations = [tf.lite.Optimize.DEFAULT]\n",
    "    converter.target_spec.supported_ops = [tf.lite.OpsSet.TFLITE_BUILTINS, tf.lite.OpsSet.SELECT_TF_OPS]\n",
    "    converter._experimental_lower_tensor_list_ops = False  # Disable experimental lowering of tensor list ops\n",
    "    tflite_models[symbol] = converter.convert()\n"
   ]
  },
  {
   "cell_type": "code",
   "execution_count": 5,
   "id": "521bad6d",
   "metadata": {},
   "outputs": [],
   "source": [
    "# Save the TensorFlow Lite models\n",
    "output_dir = \"tflite_models\"\n",
    "os.makedirs(output_dir, exist_ok=True)\n",
    "for symbol, tflite_model in tflite_models.items():\n",
    "    tflite_model_path = os.path.join(output_dir, f\"{symbol}_model.tflite\")\n",
    "    with open(tflite_model_path, \"wb\") as f:\n",
    "        f.write(tflite_model)"
   ]
  },
  {
   "cell_type": "code",
   "execution_count": null,
   "id": "88b67478",
   "metadata": {},
   "outputs": [],
   "source": []
  }
 ],
 "metadata": {
  "kernelspec": {
   "display_name": "Python 3 (ipykernel)",
   "language": "python",
   "name": "python3"
  },
  "language_info": {
   "codemirror_mode": {
    "name": "ipython",
    "version": 3
   },
   "file_extension": ".py",
   "mimetype": "text/x-python",
   "name": "python",
   "nbconvert_exporter": "python",
   "pygments_lexer": "ipython3",
   "version": "3.11.5"
  }
 },
 "nbformat": 4,
 "nbformat_minor": 5
}
